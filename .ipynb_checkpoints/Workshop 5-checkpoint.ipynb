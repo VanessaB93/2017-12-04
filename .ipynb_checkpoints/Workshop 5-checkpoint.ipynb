{
 "cells": [
  {
   "cell_type": "markdown",
   "metadata": {},
   "source": [
    "Conversione del codice da Plasm a PyPlasm per la realizzazione della Chiesa di Santo Stefano Rotondo al Celio\n",
    "========================================================"
   ]
  },
  {
   "cell_type": "code",
   "execution_count": 52,
   "metadata": {
    "collapsed": true
   },
   "outputs": [],
   "source": [
    "from larlib import*\n",
    "from pyplasm import*\n",
    "from math import *"
   ]
  },
  {
   "cell_type": "markdown",
   "metadata": {},
   "source": [
    "###### Misure di riferimento"
   ]
  },
  {
   "cell_type": "code",
   "execution_count": 53,
   "metadata": {
    "collapsed": true
   },
   "outputs": [],
   "source": [
    "r0 = 24.0\n",
    "r2 = 48.0\n",
    "r3 = 72.0\n",
    "r4 = 88.0\n",
    "wsteps = 10.0\n",
    "nsteps = 10.0\n",
    "wstep = wsteps/nsteps\n",
    "hstep = 1.0/3.0\n",
    "hw4 = 29.0\n",
    "hbasament = hstep*nsteps"
   ]
  },
  {
   "cell_type": "markdown",
   "metadata": {
    "collapsed": true
   },
   "source": [
    "###### Mappa cilindrica"
   ]
  },
  {
   "cell_type": "code",
   "execution_count": 54,
   "metadata": {
    "collapsed": true
   },
   "outputs": [],
   "source": [
    "cylMap = MAP([lambda p: (p[1]) * math.sin(p[0]), lambda p: (p[1]) * math.cos(p[0]), lambda p: (p[2])])"
   ]
  },
  {
   "cell_type": "markdown",
   "metadata": {},
   "source": [
    "###### Scala esterna"
   ]
  },
  {
   "cell_type": "code",
   "execution_count": 55,
   "metadata": {},
   "outputs": [
    {
     "data": {
      "text/plain": [
       "<pyplasm.xgepy.Hpc; proxy of <Swig Object of type 'std::shared_ptr< Hpc > *' at 0x00000255B9A2B8D0> >"
      ]
     },
     "execution_count": 55,
     "metadata": {},
     "output_type": "execute_result"
    }
   ],
   "source": [
    "def vdom(h):\n",
    "    return PROD([COMP([EMBED(1),INTERVALS(PI*3/24)])(3),QUOTE([h])])\n",
    "\n",
    "def hdom(w):\n",
    "    return COMP([S(2)(-1), EMBED(1)])(PROD([INTERVALS(PI*3/24)(3), QUOTE([w])]))\n",
    "\n",
    "def steps(w,h):\n",
    "    def steps0(n):\n",
    "        return COMP([STRUCT, CAT, N(n)])([vdom(h), T(3)(h), hdom(w), T(2)(-w)])\n",
    "    return steps0\n",
    "\n",
    "hbasament = hstep * nsteps\n",
    "\n",
    "stair = RIGHT([COMP([MKPOL, UKPOL])(steps(wstep, hstep)(nsteps)), COMP([S(2)(-1), SKEL_2, CUBOID])([PI/24, wsteps, hbasament])])\n",
    "\n",
    "ramp = cylMap(T(2)(r4)(stair))\n",
    "stairs = STRUCT(NN(12)([ramp, R([1,2])(PI/6)]))\n",
    "\n",
    "\n",
    "VIEW(stairs)"
   ]
  },
  {
   "cell_type": "markdown",
   "metadata": {},
   "source": [
    "![\"Workshop 5.1\"](Workshop 5.1.jpg)"
   ]
  },
  {
   "cell_type": "markdown",
   "metadata": {
    "collapsed": true
   },
   "source": [
    "###### Basamento"
   ]
  },
  {
   "cell_type": "code",
   "execution_count": 56,
   "metadata": {
    "collapsed": true
   },
   "outputs": [],
   "source": [
    "basisSector = COMP([cylMap, EMBED(1)])(PROD([INTERVALS(2*PI/12)(4), INTERVALS(r4-(wstep*(nsteps-1)))(1)]))\n",
    "basis = COMP([STRUCT, NN(12)])([basisSector, R([1,2])(2*PI/12)])\n",
    "basement = COMP([R([1,2])(PI/-48),STRUCT])([stairs, T(3)(hstep*nsteps),basis])\n"
   ]
  },
  {
   "cell_type": "code",
   "execution_count": 57,
   "metadata": {},
   "outputs": [
    {
     "data": {
      "text/plain": [
       "<pyplasm.xgepy.Hpc; proxy of <Swig Object of type 'std::shared_ptr< Hpc > *' at 0x00000255B9A2BDE0> >"
      ]
     },
     "execution_count": 57,
     "metadata": {},
     "output_type": "execute_result"
    }
   ],
   "source": [
    "VIEW(basement)"
   ]
  },
  {
   "cell_type": "markdown",
   "metadata": {},
   "source": [
    "![\"Workshop 5.2\"](Workshop 5.2.jpg)"
   ]
  },
  {
   "cell_type": "markdown",
   "metadata": {
    "collapsed": true
   },
   "source": [
    "###### Muro esterno"
   ]
  },
  {
   "cell_type": "code",
   "execution_count": 58,
   "metadata": {
    "collapsed": true
   },
   "outputs": [],
   "source": [
    "extWall2Da = INTERSECTION([MKPOL([[[0,0], [7,0], [7,5], [0,8], [7,3], [9,4], [10.5, 1.5], [10.5,0], [11,1.5], [11,3]], [range(1,5), [2,8,7,6,5], [6,7,9,10]], [[1], [2], [3]]]), PROD([COMP([QUOTE, N(12)])(1), Q(8)])])\n"
   ]
  },
  {
   "cell_type": "code",
   "execution_count": 59,
   "metadata": {
    "collapsed": true
   },
   "outputs": [],
   "source": [
    "extWall2Db = INTERSECTION([MKPOL([[[0.5,0], [4,0], [5,0], [6,0], [6,3], [5.5,3.5],[5,3],[4.5,3.5],[4,3],[2,4],[0,3],[0,1.5],[0.5,1.5]],[[10,11,12,13],[1,2,9,10,13],[2,3,7,8,9],[3,4,5,6,7]],range(1,5)]), PROD([COMP([QUOTE, N(6)])(1),Q(4)])])\n"
   ]
  },
  {
   "cell_type": "code",
   "execution_count": 60,
   "metadata": {
    "collapsed": true
   },
   "outputs": [],
   "source": [
    "extWall2D = STRUCT([extWall2Da, T(1)(11), extWall2Db])\n",
    "sizxExtWall = SIZE(1)(extWall2D)\n",
    "extWall = R([2,3])(PI/2)(PROD([extWall2D, QUOTE([1.5])]))"
   ]
  },
  {
   "cell_type": "code",
   "execution_count": 61,
   "metadata": {
    "collapsed": true
   },
   "outputs": [],
   "source": [
    "curvedExtWall = COMP([cylMap, T(2)(r3), S([1,3])([PI/(4*sizxExtWall), hw4/8])])(extWall)\n",
    "doubleExtWall = STRUCT([curvedExtWall, S(1)(-1), curvedExtWall])\n",
    "fullExtWall = COMP([STRUCT, NN(4)])([doubleExtWall, R([1,2])(PI/2)])"
   ]
  },
  {
   "cell_type": "code",
   "execution_count": 62,
   "metadata": {},
   "outputs": [
    {
     "data": {
      "text/plain": [
       "<pyplasm.xgepy.Hpc; proxy of <Swig Object of type 'std::shared_ptr< Hpc > *' at 0x00000255B9A2B900> >"
      ]
     },
     "execution_count": 62,
     "metadata": {},
     "output_type": "execute_result"
    }
   ],
   "source": [
    "VIEW(fullExtWall)"
   ]
  },
  {
   "cell_type": "markdown",
   "metadata": {},
   "source": [
    "![\"Workshop 5.3\"](Workshop 5.3.jpg)"
   ]
  },
  {
   "cell_type": "markdown",
   "metadata": {
    "collapsed": true
   },
   "source": [
    "###### Colonne intermedie"
   ]
  },
  {
   "cell_type": "code",
   "execution_count": 63,
   "metadata": {},
   "outputs": [
    {
     "data": {
      "text/plain": [
       "<pyplasm.xgepy.Hpc; proxy of <Swig Object of type 'std::shared_ptr< Hpc > *' at 0x00000255B9A2BF00> >"
      ]
     },
     "execution_count": 63,
     "metadata": {},
     "output_type": "execute_result"
    }
   ],
   "source": [
    "hCol = 12\n",
    "\n",
    "def column(args):\n",
    "    w,h = args\n",
    "    basis = CUBOID([w,w,2*w/3])\n",
    "    trunk = CYLINDER([w/2*0.85,h-w])(8)\n",
    "    capitel = CUBOID([w,w,w/3])\n",
    "    return TOP([TOP([basis, trunk]), capitel])\n",
    "\n",
    "arcAngle = 2*PI/50.4\n",
    "wallAngle = -3.2*arcAngle/4\n",
    "rotCross = 3.2*arcAngle/4.0 + 2.5*arcAngle\n",
    "myColumn = COMP([MKPOL, UKPOL, T(2)(r2-0.75), column])([1.5, hCol])\n",
    "\n",
    "VIEW(myColumn)"
   ]
  },
  {
   "cell_type": "markdown",
   "metadata": {},
   "source": [
    "![\"Workshop 5.4\"](Workshop 5.4.jpg)"
   ]
  },
  {
   "cell_type": "code",
   "execution_count": 64,
   "metadata": {},
   "outputs": [
    {
     "data": {
      "text/plain": [
       "<pyplasm.xgepy.Hpc; proxy of <Swig Object of type 'std::shared_ptr< Hpc > *' at 0x00000255BCE48030> >"
      ]
     },
     "execution_count": 64,
     "metadata": {},
     "output_type": "execute_result"
    }
   ],
   "source": [
    "the4cols = COMP([R([1,2])(arcAngle*0.4/3.2), MKPOL, UKPOL, STRUCT, NN(4)])([R([1,2])(DIFF(arcAngle)), myColumn])\n",
    "the5cols = COMP([R([1,2])(arcAngle*0.4/3.2), MKPOL, UKPOL, STRUCT, NN(5)])([R([1,2])(DIFF(arcAngle)), myColumn])\n",
    "\n",
    "VIEW(the5cols)"
   ]
  },
  {
   "cell_type": "code",
   "execution_count": 65,
   "metadata": {},
   "outputs": [
    {
     "data": {
      "text/plain": [
       "<pyplasm.xgepy.Hpc; proxy of <Swig Object of type 'std::shared_ptr< Hpc > *' at 0x00000255B9A2BAB0> >"
      ]
     },
     "execution_count": 65,
     "metadata": {},
     "output_type": "execute_result"
    }
   ],
   "source": [
    "theBotWal = COMP([cylMap, MKPOL, UKPOL, T(2)(r2-.75), CUBOID])([3.2*arcAngle/4, 1.5, hCol])\n",
    "theSecCols = STRUCT([R([1, 2])(rotCross), theBotWal, R([1, 2])(wallAngle), the4cols, R([1,2])(-5*arcAngle), theBotWal, R([1,2])(wallAngle), the5cols])\n",
    "theMedColumns = COMP([STRUCT, NN(4)])([theSecCols, R([1, 2])(PI/-2)])\n",
    "\n",
    "VIEW(theMedColumns)"
   ]
  },
  {
   "cell_type": "markdown",
   "metadata": {},
   "source": [
    "![\"Workshop 5.5\"](Workshop 5.5.jpg)"
   ]
  },
  {
   "cell_type": "markdown",
   "metadata": {
    "collapsed": true
   },
   "source": [
    "###### Archi sulle colonne"
   ]
  },
  {
   "cell_type": "code",
   "execution_count": 66,
   "metadata": {
    "collapsed": true
   },
   "outputs": [],
   "source": [
    "def bottomArc(d):\n",
    "    return BEZIER(S1)([[0,0],[0,2*d/3],[d,2*d/3],[d,0]])\n",
    "def topArc(d):\n",
    "    return BEZIER(S1)([[0,2*d/3],[d,2*d/3]])\n",
    "def arc2D(d):\n",
    "    return BEZIER(S2)([bottomArc(d),topArc(d)])\n",
    "def arc3D(d):\n",
    "    def arc3D1(w):\n",
    "        arch = arc2D(d)\n",
    "        dominio = PROD([INTERVALS(1)(8), INTERVALS(1)(1)])\n",
    "        ar = MAP(arch)(dominio)\n",
    "        domin = PROD([ar, QUOTE([1.5])])\n",
    "        return COMP([T(2)(w), R([2, 3])(PI / 2)])(domin)\n",
    "    return arc3D1\n",
    "def Interarc(d1, d2):\n",
    "    def Interarc1(w):\n",
    "        return CUBOID([d1, w, 2 * d2 / 3])\n",
    "    return Interarc1\n",
    "def Xarc(d1, d2):\n",
    "    def Xarc1(w):\n",
    "        return RIGHT([RIGHT([Interarc(d1, d2)(w), arc3D(d2)(w)]), Interarc(d1, d2)(w)])\n",
    "    return Xarc1\n",
    "\n",
    "theArc = Xarc(0.4, 3.2)(1.5)\n",
    "\n",
    "sizeArc = SIZE(1)(theArc)\n",
    "sx = (1 / sizeArc) * arcAngle\n",
    "sz = sx * (r2 - 2)\n",
    "curvedArc = COMP([cylMap, MKPOL, UKPOL, T(2)(r2 - .75), S([1, 3])([sx, sz])])(theArc)\n",
    "heigthArc = SIZE(3)(curvedArc)\n",
    "the5arcs = COMP([MKPOL, UKPOL, STRUCT, NN(5)])([curvedArc, R([1, 2])(-arcAngle)])\n",
    "the6arcs = COMP([MKPOL, UKPOL, STRUCT, NN(6)])([curvedArc, R([1, 2])(-arcAngle)])\n",
    "theMidWall = COMP([cylMap, MKPOL, UKPOL, T(2)(r2-.75), CUBOID])([3.2 * arcAngle/4,1.5, heigthArc])\n",
    "theSector = STRUCT([R([1, 2])(rotCross),theMidWall, R([1,2])(wallAngle), the5arcs, R([1,2])(-5*arcAngle), theMidWall,R([1,2])(wallAngle), the6arcs])\n",
    "theArcs = COMP([STRUCT, NN(4)])([theSector, R([1, 2])(PI/-2.)])\n",
    "theArcsCols = STRUCT([theMedColumns, T(3)(hCol), theArcs])"
   ]
  },
  {
   "cell_type": "code",
   "execution_count": 67,
   "metadata": {},
   "outputs": [
    {
     "data": {
      "text/plain": [
       "<pyplasm.xgepy.Hpc; proxy of <Swig Object of type 'std::shared_ptr< Hpc > *' at 0x00000255B9986F30> >"
      ]
     },
     "execution_count": 67,
     "metadata": {},
     "output_type": "execute_result"
    }
   ],
   "source": [
    "VIEW(theArcs)"
   ]
  },
  {
   "cell_type": "markdown",
   "metadata": {},
   "source": [
    "![\"Workshop 5.6\"](Workshop 5.6.jpg)"
   ]
  },
  {
   "cell_type": "code",
   "execution_count": 68,
   "metadata": {},
   "outputs": [
    {
     "data": {
      "text/plain": [
       "<pyplasm.xgepy.Hpc; proxy of <Swig Object of type 'std::shared_ptr< Hpc > *' at 0x00000255AF8BB3C0> >"
      ]
     },
     "execution_count": 68,
     "metadata": {},
     "output_type": "execute_result"
    }
   ],
   "source": [
    "VIEW(theArcsCols)"
   ]
  },
  {
   "cell_type": "markdown",
   "metadata": {},
   "source": [
    "![\"Workshop 5.7\"](Workshop 5.7.jpg)"
   ]
  },
  {
   "cell_type": "markdown",
   "metadata": {},
   "source": [
    "###### Muro intermedio superiore"
   ]
  },
  {
   "cell_type": "code",
   "execution_count": 69,
   "metadata": {
    "collapsed": true
   },
   "outputs": [],
   "source": [
    "medWall2D=INTERSECTION([MKPOL([[[0,4],[8,4],[17,4],[17,5],[12.5,7.5],[8,5],[0,8]],[[1,2,6,7],[2,3,4,5,6]],[[1],[2]]]),\n",
    "                       PROD([COMP([QUOTE,N(17)])(1),QUOTE([8])])])\n",
    "\n",
    "sizxMedWall=SIZE(1)(medWall2D)\n",
    "medWall=R([2,3])(PI/2)(PROD([medWall2D,QUOTE([1.5])]))\n",
    "curvedMedWall=COMP([cylMap,MKPOL,UKPOL,T(2)(r2+0.75),S([1,3])([PI/(4*sizxMedWall),hw4/8])])(medWall)\n",
    "doubleMedWall=STRUCT([curvedMedWall, S(1)(-1)(curvedMedWall)])\n",
    "fullMedWall=COMP([STRUCT,NN(4)])([doubleMedWall, R([1,2])(PI/2)])\n",
    "medWallArcs=STRUCT([fullMedWall, theArcsCols])"
   ]
  },
  {
   "cell_type": "code",
   "execution_count": 70,
   "metadata": {},
   "outputs": [
    {
     "data": {
      "text/plain": [
       "<pyplasm.xgepy.Hpc; proxy of <Swig Object of type 'std::shared_ptr< Hpc > *' at 0x00000255B9986DE0> >"
      ]
     },
     "execution_count": 70,
     "metadata": {},
     "output_type": "execute_result"
    }
   ],
   "source": [
    "VIEW(STRUCT([fullExtWall, medWallArcs]))"
   ]
  },
  {
   "cell_type": "markdown",
   "metadata": {},
   "source": [
    "![\"Workshop 5.8\"](Workshop 5.8.jpg)"
   ]
  },
  {
   "cell_type": "markdown",
   "metadata": {},
   "source": [
    "###### Muri laterali della croce"
   ]
  },
  {
   "cell_type": "code",
   "execution_count": 71,
   "metadata": {
    "collapsed": true
   },
   "outputs": [],
   "source": [
    "crossWall=COMP([T(1)(-1),R([1,2])(0.2*arcAngle),S(3)(hw4/8),CUBOID])([1.5,r3-r2,5])\n",
    "singleWall=COMP([R([1,2])(2.5*arcAngle),T(2)(r2)])(crossWall)\n",
    "doubleWall=STRUCT([singleWall,S(1)(-1),singleWall])\n",
    "crossWalls=COMP([STRUCT,NN(4)])([doubleWall,R([1,2])(PI/2)])"
   ]
  },
  {
   "cell_type": "code",
   "execution_count": 72,
   "metadata": {},
   "outputs": [
    {
     "data": {
      "text/plain": [
       "<pyplasm.xgepy.Hpc; proxy of <Swig Object of type 'std::shared_ptr< Hpc > *' at 0x00000255B9986BA0> >"
      ]
     },
     "execution_count": 72,
     "metadata": {},
     "output_type": "execute_result"
    }
   ],
   "source": [
    "VIEW(crossWalls)"
   ]
  },
  {
   "cell_type": "markdown",
   "metadata": {},
   "source": [
    "![\"Workshop 5.9\"](Workshop 5.9.jpg)"
   ]
  },
  {
   "cell_type": "markdown",
   "metadata": {},
   "source": [
    "###### Tetto sulla croce"
   ]
  },
  {
   "cell_type": "code",
   "execution_count": 73,
   "metadata": {
    "collapsed": true
   },
   "outputs": [],
   "source": [
    "halfTetto=MKPOL([[[0,r2,8],[8,r2,5],[8,r3,5],[0,r3,8]],[[1,2,3,4]],[]])\n",
    "curvedHalfTetto=COMP([cylMap,S([1,3])([2.5*arcAngle/8,hw4/8])])(halfTetto)\n",
    "doubleHalfTetto=STRUCT([curvedHalfTetto,S(1)(-1)(curvedHalfTetto)])\n",
    "fullTetto=COMP([STRUCT,NN(4)])([doubleHalfTetto,R([1,2])(PI/-2)])"
   ]
  },
  {
   "cell_type": "code",
   "execution_count": 74,
   "metadata": {},
   "outputs": [
    {
     "data": {
      "text/plain": [
       "<pyplasm.xgepy.Hpc; proxy of <Swig Object of type 'std::shared_ptr< Hpc > *' at 0x00000255B9A2BE70> >"
      ]
     },
     "execution_count": 74,
     "metadata": {},
     "output_type": "execute_result"
    }
   ],
   "source": [
    "VIEW(fullTetto)"
   ]
  },
  {
   "cell_type": "markdown",
   "metadata": {},
   "source": [
    "![\"Workshop 5.10\"](Workshop 5.10.jpg)"
   ]
  },
  {
   "cell_type": "markdown",
   "metadata": {},
   "source": [
    "###### Muro con triplice apertura"
   ]
  },
  {
   "cell_type": "code",
   "execution_count": 75,
   "metadata": {
    "collapsed": true
   },
   "outputs": [],
   "source": [
    "def courtWall(d1,d2):\n",
    "    def courtWall1(n1,n2):\n",
    "        w=0.7\n",
    "        tripleHole=TOP([STRUCT([column([w,2]),T(1)(2+w), column([w,2])]), Xarc(2,2)(1)])\n",
    "        h=SIZE(3)(tripleHole)\n",
    "        op=ALIGN([[1,MAX,MIN],[2,MIN,MIN]])\n",
    "        LeftWall=PROD([COMP([QUOTE,N(n1)])(d1/n1),CUBOID([1,h])])\n",
    "        RightWall=PROD([COMP([QUOTE,N(n2)])(d2/n2),CUBOID([1,h])])\n",
    "        return op([op([LeftWall,tripleHole]),RightWall])\n",
    "    return courtWall1\n"
   ]
  },
  {
   "cell_type": "markdown",
   "metadata": {},
   "source": [
    "###### Muro inferiore cortile interno"
   ]
  },
  {
   "cell_type": "code",
   "execution_count": 76,
   "metadata": {
    "collapsed": true
   },
   "outputs": [],
   "source": [
    "myCourtWall= courtWall(12,12)(9,9)\n",
    "sizxCourtWall= SIZE(1)(myCourtWall)\n",
    "mapping=COMP([cylMap,S([1,3])([(7.5*PI/24)*(1/sizxCourtWall),hw4/8])])\n",
    "curvedCourtWall=COMP([OPTIMIZE,R([1,2])(-2.5*arcAngle),mapping,T(2)((r3+r2)/2)])(myCourtWall)\n",
    "crossCourtWall=COMP([STRUCT,NN(4)])([curvedCourtWall,R([1,2])(PI/2)])"
   ]
  },
  {
   "cell_type": "code",
   "execution_count": 77,
   "metadata": {},
   "outputs": [
    {
     "data": {
      "text/plain": [
       "<pyplasm.xgepy.Hpc; proxy of <Swig Object of type 'std::shared_ptr< Hpc > *' at 0x00000255B9986510> >"
      ]
     },
     "execution_count": 77,
     "metadata": {},
     "output_type": "execute_result"
    }
   ],
   "source": [
    "VIEW(crossCourtWall)"
   ]
  },
  {
   "cell_type": "markdown",
   "metadata": {},
   "source": [
    "![\"Workshop 5.11\"](Workshop 5.11.jpg)"
   ]
  },
  {
   "cell_type": "markdown",
   "metadata": {
    "collapsed": true
   },
   "source": [
    "###### Coronamento muro cortile interno"
   ]
  },
  {
   "cell_type": "code",
   "execution_count": 78,
   "metadata": {
    "collapsed": true
   },
   "outputs": [],
   "source": [
    "topCourtWall2D = INTERSECTION([MKPOL([[[0,3.333],[10,3.333],[10,4.333],[5,6.333],[0,4.333]],\n",
    "                                      [range(1,6)],[[1]]]),PROD([COMP([QUOTE,N(10)])(1),QUOTE([8])])])\n",
    "topCourtWall = R([2,3])(PI/2)(PROD([topCourtWall2D,QUOTE([1])]))\n",
    "myTopCourtWall=RIGHT([RIGHT([topCourtWall,topCourtWall]),topCourtWall])\n",
    "curvedTopCourtWall=COMP([R([1,2])(-2.5*arcAngle),mapping,T(2)((r3+r2+2)/2)])(myTopCourtWall)\n",
    "fullTopCourtWall=COMP([STRUCT,NN(4)])([curvedTopCourtWall,R([1,2])(PI/2)])"
   ]
  },
  {
   "cell_type": "code",
   "execution_count": 79,
   "metadata": {},
   "outputs": [
    {
     "data": {
      "text/plain": [
       "<pyplasm.xgepy.Hpc; proxy of <Swig Object of type 'std::shared_ptr< Hpc > *' at 0x00000255B9986E70> >"
      ]
     },
     "execution_count": 79,
     "metadata": {},
     "output_type": "execute_result"
    }
   ],
   "source": [
    "VIEW(fullTopCourtWall)"
   ]
  },
  {
   "cell_type": "markdown",
   "metadata": {},
   "source": [
    "![\"Workshop 5.12\"](Workshop 5.12.jpg)"
   ]
  },
  {
   "cell_type": "code",
   "execution_count": 93,
   "metadata": {
    "collapsed": true
   },
   "outputs": [],
   "source": [
    "assemplyCourtWall2Tetto = TOP([crossCourtWall, fullTopCourtWall])"
   ]
  },
  {
   "cell_type": "markdown",
   "metadata": {},
   "source": [
    "###### Tetto su cortile interno"
   ]
  },
  {
   "cell_type": "code",
   "execution_count": 94,
   "metadata": {
    "collapsed": true
   },
   "outputs": [],
   "source": [
    "rotWall = 2.5 * arcAngle\n",
    "courTetto = INTERSECTION([\n",
    "    MKPOL([[[0, (r3 + r2 + 2) / 2, 3.333], [10, (r3 + r2 + 2) / 2, 3.333], [10, r2, 4.333],\n",
    "                        [0, r2, 4.333], [0, (r3 + r2 + 2) / 2, 3.433], [10, (r3 + r2 + 2) / 2, 3.433],\n",
    "                        [10, r2, 4.433], [0, r2, 4.433]], [range(1, 9)], [[1]]]),\n",
    "                    PROD([COMP([QUOTE, N(10)])(1), PROD([QUOTE([(r3 + r2 + 2) / 2]), QUOTE([5])])])])\n",
    "\n",
    "myCourTetto = RIGHT([RIGHT([courTetto, courTetto]), courTetto])\n",
    "curvedCourTetto = COMP([R([1, 2])(DIFF(rotWall)), mapping])(myCourTetto)\n",
    "fullCourTetto = COMP([STRUCT, NN(4)])([curvedCourTetto, R([1, 2])(PI / 2)])"
   ]
  },
  {
   "cell_type": "code",
   "execution_count": 95,
   "metadata": {},
   "outputs": [
    {
     "data": {
      "text/plain": [
       "<pyplasm.xgepy.Hpc; proxy of <Swig Object of type 'std::shared_ptr< Hpc > *' at 0x00000255B9A2B2A0> >"
      ]
     },
     "execution_count": 95,
     "metadata": {},
     "output_type": "execute_result"
    }
   ],
   "source": [
    "VIEW(fullCourTetto)"
   ]
  },
  {
   "cell_type": "markdown",
   "metadata": {},
   "source": [
    "![\"Workshop 5.13\"](Workshop 5.13.jpg)"
   ]
  },
  {
   "cell_type": "markdown",
   "metadata": {},
   "source": [
    "###### Colonne muro interno"
   ]
  },
  {
   "cell_type": "code",
   "execution_count": 96,
   "metadata": {
    "collapsed": true
   },
   "outputs": [],
   "source": [
    "def radial22Obj(Obj):\n",
    "    the4Obj = COMP([STRUCT,NN(4)])([Obj,R([1,2])(PI/11)])\n",
    "    the2Obj = COMP([STRUCT,NN(2)])([Obj,R([1,2])(PI/11)])\n",
    "    the20Obj = COMP([STRUCT,NN(5)])([the4Obj,R([1,2])((4*PI)/11)])\n",
    "    return STRUCT([the20Obj,R([1,2])(20*PI/11),the2Obj])\n",
    "\n",
    "internalCol = COMP([MKPOL,UKPOL,T(2)((r0-2)),column])([1.5,hCol])\n",
    "the22Columns = radial22Obj(internalCol)"
   ]
  },
  {
   "cell_type": "code",
   "execution_count": 97,
   "metadata": {},
   "outputs": [
    {
     "data": {
      "text/plain": [
       "<pyplasm.xgepy.Hpc; proxy of <Swig Object of type 'std::shared_ptr< Hpc > *' at 0x00000255B9A2B720> >"
      ]
     },
     "execution_count": 97,
     "metadata": {},
     "output_type": "execute_result"
    }
   ],
   "source": [
    "VIEW(the22Columns)"
   ]
  },
  {
   "cell_type": "markdown",
   "metadata": {},
   "source": [
    "![\"Workshop 5.14\"](Workshop 5.14.jpg)"
   ]
  },
  {
   "cell_type": "markdown",
   "metadata": {},
   "source": [
    "###### Travi muro interno"
   ]
  },
  {
   "cell_type": "code",
   "execution_count": 98,
   "metadata": {
    "collapsed": true
   },
   "outputs": [],
   "source": [
    "beam = PROD([QUOTE([-0.5,1.5,2,1.5]),PROD([QUOTE([2.2]),QUOTE([1.5])])])\n",
    "curvedBeam = COMP([cylMap,T([2,3])([(r0 - 2),hCol]),S(1)(PI/(11*5))])(beam)\n",
    "the22Beams = radial22Obj(curvedBeam)"
   ]
  },
  {
   "cell_type": "code",
   "execution_count": 99,
   "metadata": {},
   "outputs": [
    {
     "data": {
      "text/plain": [
       "<pyplasm.xgepy.Hpc; proxy of <Swig Object of type 'std::shared_ptr< Hpc > *' at 0x00000255B9A2B300> >"
      ]
     },
     "execution_count": 99,
     "metadata": {},
     "output_type": "execute_result"
    }
   ],
   "source": [
    "VIEW(the22Beams)"
   ]
  },
  {
   "cell_type": "markdown",
   "metadata": {},
   "source": [
    "![\"Workshop 5.15\"](Workshop 5.15.jpg)"
   ]
  },
  {
   "cell_type": "markdown",
   "metadata": {},
   "source": [
    "###### Muro interno superiore"
   ]
  },
  {
   "cell_type": "code",
   "execution_count": 100,
   "metadata": {
    "collapsed": true
   },
   "outputs": [],
   "source": [
    "hwall=STRUCT([\n",
    "    INSR(PROD)([QUOTE([-0.5,1.5,-2,1.5]),QUOTE([-0.3,1.4]),QUOTE([2.5*hCol])]),\n",
    "    INSR(PROD)([QUOTE([-2.0,2]),QUOTE([-0.3,1.4]),QUOTE([1.5*hCol, -0.5*hCol, 0.5*hCol])]),\n",
    "    INSR(PROD)([QUOTE([-0.5,1.75,-1.5,1.75]),QUOTE([-0.3,1.4]),QUOTE([2.5*hCol])])])\n",
    "\n",
    "curvedHwall=COMP([cylMap,T([2,3])([r0-2,hCol]),S(1)(PI/(11*5))])(hwall)\n",
    "the22Hwall=radial22Obj(curvedHwall)"
   ]
  },
  {
   "cell_type": "code",
   "execution_count": 101,
   "metadata": {},
   "outputs": [
    {
     "data": {
      "text/plain": [
       "<pyplasm.xgepy.Hpc; proxy of <Swig Object of type 'std::shared_ptr< Hpc > *' at 0x00000255B9A2B330> >"
      ]
     },
     "execution_count": 101,
     "metadata": {},
     "output_type": "execute_result"
    }
   ],
   "source": [
    "VIEW(the22Hwall)"
   ]
  },
  {
   "cell_type": "markdown",
   "metadata": {},
   "source": [
    "![\"Workshop 5.16\"](Workshop 5.16.jpg)"
   ]
  },
  {
   "cell_type": "markdown",
   "metadata": {},
   "source": [
    "###### Coronamento superiore muro interno"
   ]
  },
  {
   "cell_type": "code",
   "execution_count": 102,
   "metadata": {
    "collapsed": true
   },
   "outputs": [],
   "source": [
    "myArc=MAP([COMP([SIN,S1]),COMP([COS,S1])])(COMP([QUOTE,N(5)])(PI/10))\n",
    "vertex = MKPOL([[[0,0]],[[1]],[[1]]])\n",
    "sector=JOIN([myArc, vertex])\n",
    "triangle=S(1)(-1)(SIMPLEX(2))\n",
    "sectorTriangle2D=STRUCT([T(1)(0.05),sector,T(1)(2),triangle])\n",
    "doubleSect=STRUCT([sectorTriangle2D,S(1)(-1)(sectorTriangle2D)])\n",
    "sect2D=S(1)(2/2.05)(doubleSect)\n",
    "sect3D=R([2,3])(PI/2)(PROD([sect2D,QUOTE([0.8])]))\n",
    "curvedSect=COMP([cylMap,T(2)(r0),S([1,3])([(2*PI)/(11*4),3])])(sect3D)\n",
    "frieze=T(3)(3.5*hCol)(curvedSect)\n",
    "\n",
    "def Radial11Obj(Obj):\n",
    "    the2Obj=COMP([STRUCT,NN(2)])([Obj,R([1,2])((2*PI)/11)])\n",
    "    the10Obj=COMP([STRUCT,NN(5)])([the2Obj,R([1,2])((4*PI)/11)])\n",
    "    return STRUCT([the10Obj,R([1,2])((20*PI)/11),Obj])\n",
    "\n",
    "the11Frieze = Radial11Obj(frieze)"
   ]
  },
  {
   "cell_type": "code",
   "execution_count": 103,
   "metadata": {},
   "outputs": [
    {
     "data": {
      "text/plain": [
       "<pyplasm.xgepy.Hpc; proxy of <Swig Object of type 'std::shared_ptr< Hpc > *' at 0x00000255B9A2BF90> >"
      ]
     },
     "execution_count": 103,
     "metadata": {},
     "output_type": "execute_result"
    }
   ],
   "source": [
    "VIEW(the11Frieze)"
   ]
  },
  {
   "cell_type": "markdown",
   "metadata": {},
   "source": [
    "![\"Workshop 5.17\"](Workshop 5.17.jpg)"
   ]
  },
  {
   "cell_type": "markdown",
   "metadata": {},
   "source": [
    "###### Traliccio tetto interno"
   ]
  },
  {
   "cell_type": "code",
   "execution_count": 104,
   "metadata": {
    "collapsed": true
   },
   "outputs": [],
   "source": [
    "def trellis(args):\n",
    "    H,L=args\n",
    "    return COMP([R([2,3])(PI/2),EMBED(1),MKPOL])([[\n",
    "        [0,0],[L/3,0],[2*L/3,0],[L,0],[2*L/3,H/3],[L/3,2*H/3],[0,H]],\n",
    "        [[1,2],[2,3],[3,4],[4,5],[5,6],[6,7],[7,1],[1,6],[6,2],[2,5],[5,3]],[1,2,3,4,5,6,7,8,9,10,11]])\n",
    "\n",
    "def radial(n):\n",
    "    def radial1(obj):\n",
    "        return COMP([STRUCT,NN(n/3)])([COMP([STRUCT,NN(n/3)])([obj,R([1,2])(2*PI/n)]),R([1,2])(2*PI/3)])\n",
    "    return radial1\n",
    "    \n",
    "trellisTop3D = COMP([T(2)(-0.25),S(2)(0.5),OFFSET([1,1,1]),trellis])([hCol,r0-1])\n",
    "theTopTrellis = T(3)(3.5*hCol)(trellisTop3D)\n",
    "topTrellis = radial(12)(theTopTrellis)"
   ]
  },
  {
   "cell_type": "markdown",
   "metadata": {},
   "source": [
    "###### Traliccio tetto intermedio"
   ]
  },
  {
   "cell_type": "code",
   "execution_count": 105,
   "metadata": {},
   "outputs": [
    {
     "data": {
      "text/plain": [
       "<pyplasm.xgepy.Hpc; proxy of <Swig Object of type 'std::shared_ptr< Hpc > *' at 0x00000255B9A2BC60> >"
      ]
     },
     "execution_count": 105,
     "metadata": {},
     "output_type": "execute_result"
    }
   ],
   "source": [
    "trellisMed3D = COMP([T(2)(-0.25),S(2)(0.5),OFFSET([1,1,1]),trellis])([hCol,r2 - r0])\n",
    "theMedTrellis = T(3)(hCol+3)(trellisMed3D)\n",
    "medTrellis = radial(24)(T(1)(r0)(theMedTrellis))\n",
    "doubleMedTrellis = STRUCT([medTrellis, R([1,2])(PI/24), medTrellis])\n",
    "\n",
    "VIEW(topTrellis)"
   ]
  },
  {
   "cell_type": "markdown",
   "metadata": {},
   "source": [
    "![\"Workshop 5.18\"](Workshop 5.18.jpg)"
   ]
  },
  {
   "cell_type": "markdown",
   "metadata": {},
   "source": [
    "###### Struttura finale"
   ]
  },
  {
   "cell_type": "code",
   "execution_count": 106,
   "metadata": {
    "collapsed": true
   },
   "outputs": [],
   "source": [
    "out=STRUCT([basement,T(3)(hbasament),\n",
    "            fullExtWall, fullTetto, assemplyCourtWall2Tetto,\n",
    "            crossWalls, medWallArcs, theMedColumns,\n",
    "            fullCourTetto, the22Columns, the22Beams,\n",
    "            the22Hwall, the11Frieze, topTrellis, doubleMedTrellis\n",
    "           ])"
   ]
  },
  {
   "cell_type": "code",
   "execution_count": 107,
   "metadata": {},
   "outputs": [
    {
     "data": {
      "text/plain": [
       "<pyplasm.xgepy.Hpc; proxy of <Swig Object of type 'std::shared_ptr< Hpc > *' at 0x00000255B9A2B930> >"
      ]
     },
     "execution_count": 107,
     "metadata": {},
     "output_type": "execute_result"
    }
   ],
   "source": [
    "VIEW(out)"
   ]
  },
  {
   "cell_type": "markdown",
   "metadata": {
    "collapsed": true
   },
   "source": [
    "![\"Workshop 5.19\"](Workshop 5.19.jpg)"
   ]
  },
  {
   "cell_type": "code",
   "execution_count": null,
   "metadata": {
    "collapsed": true
   },
   "outputs": [],
   "source": []
  }
 ],
 "metadata": {
  "kernelspec": {
   "display_name": "Python 3",
   "language": "python",
   "name": "python3"
  },
  "language_info": {
   "codemirror_mode": {
    "name": "ipython",
    "version": 3
   },
   "file_extension": ".py",
   "mimetype": "text/x-python",
   "name": "python",
   "nbconvert_exporter": "python",
   "pygments_lexer": "ipython3",
   "version": "3.6.3"
  }
 },
 "nbformat": 4,
 "nbformat_minor": 2
}
